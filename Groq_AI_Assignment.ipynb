{
  "nbformat": 4,
  "nbformat_minor": 0,
  "metadata": {
    "colab": {
      "provenance": [],
      "authorship_tag": "ABX9TyNdJtvEaQxe5f0+V0yESnkU",
      "include_colab_link": true
    },
    "kernelspec": {
      "name": "python3",
      "display_name": "Python 3"
    },
    "language_info": {
      "name": "python"
    }
  },
  "cells": [
    {
      "cell_type": "markdown",
      "metadata": {
        "id": "view-in-github",
        "colab_type": "text"
      },
      "source": [
        "<a href=\"https://colab.research.google.com/github/sid5354535457N/Assignmernt/blob/main/Groq_AI_Assignment.ipynb\" target=\"_parent\"><img src=\"https://colab.research.google.com/assets/colab-badge.svg\" alt=\"Open In Colab\"/></a>"
      ]
    },
    {
      "cell_type": "code",
      "execution_count": 1,
      "metadata": {
        "colab": {
          "base_uri": "https://localhost:8080/"
        },
        "id": "-gk9bQpAU-00",
        "outputId": "f26aa10b-44f9-4c7c-a866-fa219ed2c970"
      },
      "outputs": [
        {
          "output_type": "stream",
          "name": "stdout",
          "text": [
            "\u001b[?25l   \u001b[90m━━━━━━━━━━━━━━━━━━━━━━━━━━━━━━━━━━━━━━━━\u001b[0m \u001b[32m0.0/134.9 kB\u001b[0m \u001b[31m?\u001b[0m eta \u001b[36m-:--:--\u001b[0m\r\u001b[2K   \u001b[90m━━━━━━━━━━━━━━━━━━━━━━━━━━━━━━━━━━━━━━━━\u001b[0m \u001b[32m134.9/134.9 kB\u001b[0m \u001b[31m5.0 MB/s\u001b[0m eta \u001b[36m0:00:00\u001b[0m\n",
            "\u001b[?25h"
          ]
        }
      ],
      "source": [
        "!pip install -q groq openai\n"
      ]
    },
    {
      "cell_type": "code",
      "source": [
        "import os\n",
        "import json\n",
        "from openai import OpenAI\n",
        "from getpass import getpass"
      ],
      "metadata": {
        "id": "rGQioXo_VBNw"
      },
      "execution_count": 2,
      "outputs": []
    },
    {
      "cell_type": "code",
      "source": [
        "try:\n",
        "    # Attempt to get the key from Colab secrets first\n",
        "    from google.colab import userdata\n",
        "    GROQ_API_KEY = userdata.get('GROQ_API_KEY')\n",
        "    if GROQ_API_KEY is None:\n",
        "        raise ImportError\n",
        "    print(\"Fetched Groq API key from Colab secrets.\")\n",
        "except (ImportError, KeyError):\n",
        "    # If secrets don't work, fall back to a secure prompt\n",
        "    print(\"Could not find Groq API key in Colab secrets.\")\n",
        "    GROQ_API_KEY = getpass(\"Please enter your Groq API key: \")\n"
      ],
      "metadata": {
        "colab": {
          "base_uri": "https://localhost:8080/"
        },
        "id": "cyyO1bE-V2xa",
        "outputId": "a3e79362-407c-4934-ba6b-a275b57c34d8"
      },
      "execution_count": 5,
      "outputs": [
        {
          "output_type": "stream",
          "name": "stdout",
          "text": [
            "Fetched Groq API key from Colab secrets.\n"
          ]
        }
      ]
    },
    {
      "cell_type": "code",
      "source": [
        "client = OpenAI(\n",
        "    api_key=GROQ_API_KEY,\n",
        "    base_url=\"https://api.groq.com/openai/v1\",\n",
        ")"
      ],
      "metadata": {
        "id": "4wOS0vzKV2uN"
      },
      "execution_count": 6,
      "outputs": []
    },
    {
      "cell_type": "code",
      "source": [
        "MODEL = 'openai/gpt-oss-20b'"
      ],
      "metadata": {
        "id": "aFNZ1lNcV2sF"
      },
      "execution_count": 25,
      "outputs": []
    },
    {
      "cell_type": "code",
      "source": [
        "print(f\"\\n✅ Setup complete. Using model: {MODEL}\")"
      ],
      "metadata": {
        "colab": {
          "base_uri": "https://localhost:8080/"
        },
        "id": "hAO0nzteV2pt",
        "outputId": "56c34cca-136e-481c-abf0-46c7c217ffcf"
      },
      "execution_count": 26,
      "outputs": [
        {
          "output_type": "stream",
          "name": "stdout",
          "text": [
            "\n",
            "✅ Setup complete. Using model: openai/gpt-oss-20b\n"
          ]
        }
      ]
    },
    {
      "cell_type": "code",
      "source": [
        "print(\"\\n\" + \"=\"*60)\n",
        "print(\"TASK 1: CONVERSATION HISTORY MANAGEMENT\")\n",
        "print(\"=\"*60)"
      ],
      "metadata": {
        "colab": {
          "base_uri": "https://localhost:8080/"
        },
        "id": "ZiXlgtZOV2nQ",
        "outputId": "64aafaf6-eacb-47df-ce91-6bb6f940c2ce"
      },
      "execution_count": 27,
      "outputs": [
        {
          "output_type": "stream",
          "name": "stdout",
          "text": [
            "\n",
            "============================================================\n",
            "TASK 1: CONVERSATION HISTORY MANAGEMENT\n",
            "============================================================\n"
          ]
        }
      ]
    },
    {
      "cell_type": "code",
      "source": [
        "class ConversationManager:\n",
        "    \"\"\"\n",
        "    Manages a conversation history, including truncation and periodic summarization.\n",
        "    \"\"\"\n",
        "    def __init__(self, system_prompt: str, summarize_every_k: int = 3, model: str = MODEL):\n",
        "        self.system_prompt = {\"role\": \"system\", \"content\": system_prompt}\n",
        "        self.history = [self.system_prompt]\n",
        "        self.summarize_every_k = summarize_every_k\n",
        "        self.model = model\n",
        "        self.run_count = 0\n",
        "\n",
        "    def add_message(self, role: str, content: str):\n",
        "        self.history.append({\"role\": role, \"content\": content})\n",
        "\n",
        "    def _summarize_conversation(self, conversation_text: str) -> str:\n",
        "        print(\"\\n⏳ Summarizing conversation...\")\n",
        "        try:\n",
        "            summary_prompt = f\"Concisely summarize the key points of the following conversation in 1-2 sentences: \\n\\n{conversation_text}\"\n",
        "            response = client.chat.completions.create(\n",
        "                model=self.model,\n",
        "                messages=[{\"role\": \"user\", \"content\": summary_prompt}],\n",
        "                temperature=0.3,\n",
        "            )\n",
        "            summary = response.choices[0].message.content\n",
        "            print(\"✅ Summarization complete.\")\n",
        "            return summary\n",
        "        except Exception as e:\n",
        "            print(f\"Error during summarization: {e}\")\n",
        "            return \"Summary could not be generated.\"\n",
        "\n",
        "    def process_and_get_response(self, user_input: str) -> str:\n",
        "        self.add_message(\"user\", user_input)\n",
        "        self.run_count += 1\n",
        "\n",
        "        if self.run_count % self.summarize_every_k == 0 and len(self.history) > 3:\n",
        "            print(f\"\\n--- Triggering summarization (Run #{self.run_count}) ---\")\n",
        "            text_to_summarize = \"\\n\".join([f\"{msg['role']}: {msg['content']}\" for msg in self.history[:-1]])\n",
        "            summary = self._summarize_conversation(text_to_summarize)\n",
        "            latest_user_message = self.history[-1]\n",
        "            self.history = [\n",
        "                self.system_prompt,\n",
        "                {\"role\": \"system\", \"content\": f\"Conversation summary so far: {summary}\"},\n",
        "                latest_user_message\n",
        "            ]\n",
        "            print(\"📜 History has been replaced with a summary.\")\n",
        "\n",
        "        try:\n",
        "            chat_completion = client.chat.completions.create(messages=self.history, model=self.model)\n",
        "            assistant_response = chat_completion.choices[0].message.content\n",
        "            self.add_message(\"assistant\", assistant_response)\n",
        "            return assistant_response\n",
        "        except Exception as e:\n",
        "            return f\"An error occurred: {e}\"\n",
        "\n",
        "    def display_history(self):\n",
        "        print(\"\\n--- Current Conversation History ---\")\n",
        "        for message in self.history:\n",
        "            print(f\"[{message['role'].capitalize()}]: {message['content']}\")\n",
        "        print(\"------------------------------------\\n\")\n",
        "\n",
        "    def truncate_history(self, max_turns: int = None, max_chars: int = None):\n",
        "        if max_turns:\n",
        "            print(f\"✂️ Truncating history to the last {max_turns} turns...\")\n",
        "            num_messages_to_keep = max_turns * 2\n",
        "            self.history = [self.system_prompt] + self.history[-num_messages_to_keep:]\n",
        "\n",
        "        if max_chars:\n",
        "            print(f\"✂️ Truncating history to ~{max_chars} characters...\")\n",
        "            current_chars = 0\n",
        "            new_history = []\n",
        "            for message in reversed(self.history[1:]):\n",
        "                current_chars += len(message['content'])\n",
        "                if current_chars > max_chars:\n",
        "                    break\n",
        "                new_history.insert(0, message)\n",
        "            self.history = [self.system_prompt] + new_history"
      ],
      "metadata": {
        "id": "3MoFIMcjV2kq"
      },
      "execution_count": 28,
      "outputs": []
    },
    {
      "cell_type": "code",
      "source": [
        "print(\"\\n### 2.1. DEMONSTRATION: PERIODIC SUMMARIZATION ###\")\n",
        "convo_manager = ConversationManager(system_prompt=\"You are a helpful travel planner.\", summarize_every_k=3)"
      ],
      "metadata": {
        "colab": {
          "base_uri": "https://localhost:8080/"
        },
        "id": "y4BbQI01V2iK",
        "outputId": "35fb5809-3a8c-43af-fa81-9f3b8aa4bfba"
      },
      "execution_count": 29,
      "outputs": [
        {
          "output_type": "stream",
          "name": "stdout",
          "text": [
            "\n",
            "### 2.1. DEMONSTRATION: PERIODIC SUMMARIZATION ###\n"
          ]
        }
      ]
    },
    {
      "cell_type": "code",
      "source": [
        "print(\"--- Run 1 ---\")\n",
        "response = convo_manager.process_and_get_response(\"Hi, I want to plan a trip to Italy.\")\n",
        "print(f\"[Assistant]: {response}\")"
      ],
      "metadata": {
        "colab": {
          "base_uri": "https://localhost:8080/"
        },
        "id": "vUaYKUoFYVPR",
        "outputId": "5f5c2307-201a-4991-e5fc-b25d8fd6b855"
      },
      "execution_count": 30,
      "outputs": [
        {
          "output_type": "stream",
          "name": "stdout",
          "text": [
            "--- Run 1 ---\n",
            "[Assistant]: 👋 Hello! I’d love to help you design an unforgettable Italian adventure.  \n",
            "Let’s start by getting a feel for what you’re looking for, and then I’ll sketch out a few sample itineraries (plus tips, budget ideas, and a handy packing list).\n",
            "\n",
            "---\n",
            "\n",
            "## 1. Quick “Get‑to‑Know” Questions  \n",
            "(Feel free to skip any you’re not sure about; I’ll use the defaults.)\n",
            "\n",
            "| Question | What it helps us decide |\n",
            "|----------|------------------------|\n",
            "| **Dates / Season** | Winter (ski, fewer crowds), Spring (blooming countryside), Summer (beaches, festivals), Autumn (wine harvest) |\n",
            "| **Duration** | 7, 10, 14 days, or a “quick getaway” (3–5) |\n",
            "| **Budget** | Economy, mid‑range, or luxury (per day: €80, €150, €300+) |\n",
            "| **Travel Style** | Backpacker, family, honeymoon, solo, culinary, art/history, outdoor adventure |\n",
            "| **Must‑See** | Rome, Florence, Venice, Amalfi Coast, Tuscany, Sicily, etc. |\n",
            "| **Cuisine Focus** | Pizza, pasta, seafood, gelato, regional specialties, food tours |\n",
            "| **Transportation** | Train travel, rental car, internal flights, bike tours |\n",
            "| **Special Needs** | Accessibility, dietary restrictions, language assistance |\n",
            "\n",
            "---\n",
            "\n",
            "## 2. Sample Itineraries (Choose One)\n",
            "\n",
            "### A) “Classic 10‑Day Italy” – Culture & City Highlights  \n",
            "| Day | Destination | Highlights |\n",
            "|-----|-------------|-------------|\n",
            "| 1 | **Rome** | Colosseum, Roman Forum, Pantheon, Trevi Fountain |\n",
            "| 2 | **Rome** | Vatican Museums, Sistine Chapel, St. Peter’s Basilica |\n",
            "| 3 | **Florence** | Duomo, Uffizi, Ponte Vecchio |\n",
            "| 4 | **Florence** | Day trip to Siena & San Gimignano (Tuscan countryside) |\n",
            "| 5 | **Venice** | St. Mark’s Square, Doge’s Palace, Grand Canal gondola |\n",
            "| 6 | **Venice** | Murano & Burano islands |\n",
            "| 7 | **Cinque Terre** | Hiking & seaside villages |\n",
            "| 8 | **Pompeii** | Ancient ruins + Mount Vesuvius hike |\n",
            "| 9 | **Amalfi Coast** | Positano, Amalfi, Ravello |\n",
            "| 10 | **Rome** | Departure (or add a day in Naples for pizza) |\n",
            "\n",
            "- **Transportation**: High‑speed train (Frecciarossa/Italo) + regional trains + ferry (Cinque Terre/Amalfi).  \n",
            "- **Accommodation**: 3‑star hotels or B&Bs (Rome €80‑120/night, Florence €90‑130, Venice €110‑170).  \n",
            "- **Budget**: Roughly €1500‑€2200 per person (incl. flights, train passes, meals).  \n",
            "\n",
            "### B) “Sicilian & Southern Escape” – 12 Days  \n",
            "| Day | Destination | Highlights |\n",
            "|-----|-------------|-------------|\n",
            "| 1–2 | **Catania** | Explore city, Mount Etna excursion |\n",
            "| 3–4 | **Sicily** (Taormina, Siracusa) | Ancient Greek theatre, Ortigia Island |\n",
            "| 5 | **Sicily** | Nebrodi or Madonie mountains (hiking) |\n",
            "| 6 | **Naples** | Historic center, pizza tour |\n",
            "| 7 | **Pompeii** | Ruins + Vesuvius |\n",
            "| 8 | **Amalfi Coast** | Positano, Amalfi |\n",
            "| 9 | **Rome** | Vatican, Colosseum (quick) |\n",
            "|10 | **Rome** | Shopping & gelato |\n",
            "|11–12 | **Orvieto & Umbria** | Wine tasting, medieval towns |\n",
            "\n",
            "- **Transportation**: Domestic flights (Catania↔Naples) + trains.  \n",
            "- **Accommodation**: 3‑star hotels or agriturismi (budget €70‑120/night).  \n",
            "- **Budget**: €1800‑€2500 per person.\n",
            "\n",
            "### C) “Food & Wine Trail” – 9 Days  \n",
            "| Day | Destination | Highlights |\n",
            "|-----|-------------|-------------|\n",
            "| 1–2 | **Florence** | Tuscan cooking class, Chianti vineyard tour |\n",
            "| 3 | **Siena** | Local markets, San Gimignano wine tasting |\n",
            "| 4–5 | **Puglia** | Alberobello trulli houses, olive oil & burrata tour |\n",
            "| 6 | **Naples** | Pizza masterclass, Caprese salad |\n",
            "| 7 | **Sicily** (Modica) | Chocolate tasting, baroque architecture |\n",
            "| 8 | **Rome** | Truffle tasting, gelato workshop |\n",
            "| 9 | **Rome** | Departure |\n",
            "\n",
            "- **Transportation**: Train + rental car in Puglia.  \n",
            "- **Accommodation**: Boutique B&Bs (€80‑140/night).  \n",
            "- **Budget**: €1700‑€2400 per person.\n",
            "\n",
            "---\n",
            "\n",
            "## 3. Practical Tips\n",
            "\n",
            "| Topic | Recommendation |\n",
            "|-------|----------------|\n",
            "| **Flights** | Book 3–6 months ahead. Look at airlines like Ryanair, EasyJet, or full service (Alitalia, Lufthansa). |\n",
            "| **Train Pass** | The **Eurail Italy Pass** (7–15 days) can save you money if you travel a lot by rail. |\n",
            "| **Accommodation** | Use Booking.com, Airbnb, or local agriturismi for authentic stays. Book in advance during peak season (June‑August). |\n",
            "| **Dining** | Reserve a table at least 48 hrs for popular restaurants. Try a local “aperitivo” for an inexpensive snack. |\n",
            "| **Cash & Cards** | Italy accepts cards widely but keep €20‑€30 cash for small cafés and markets. |\n",
            "| **Language** | Learn 5 key phrases (ciao, grazie, scusa, dove, quanto). |\n",
            "| **Health** | Travel insurance that covers COVID‑19 and medical evacuation. Bring a basic first‑aid kit. |\n",
            "| **Packing List** | Comfortable walking shoes, lightweight layers, a small backpack, a power adapter (type F). Don’t forget a reusable water bottle. |\n",
            "\n",
            "---\n",
            "\n",
            "## 4. Next Steps\n",
            "\n",
            "1. **Answer the quick questions** above to fine‑tune the plan.  \n",
            "2. **Let me know your budget and travel style** so I can adjust accommodation, transport, and activities.  \n",
            "3. **I’ll provide a detailed day‑by‑day itinerary, cost breakdown, and booking links**.\n",
            "\n",
            "Looking forward to hearing more about your dream Italian trip! 🇮🇹✨\n"
          ]
        }
      ]
    },
    {
      "cell_type": "code",
      "source": [
        "print(\"\\n--- Run 2 ---\")\n",
        "response = convo_manager.process_and_get_response(\"I'm interested in historical sites and good food. I'm thinking of visiting in the spring.\")\n",
        "print(f\"[Assistant]: {response}\")"
      ],
      "metadata": {
        "colab": {
          "base_uri": "https://localhost:8080/"
        },
        "id": "978bfcyVYVL_",
        "outputId": "ae4f3843-0399-4df7-93d8-8b72d761db99"
      },
      "execution_count": 31,
      "outputs": [
        {
          "output_type": "stream",
          "name": "stdout",
          "text": [
            "\n",
            "--- Run 2 ---\n",
            "[Assistant]: Great! 🌟 Spring is the perfect time for Italy—mild weather, blooming landscapes, and a vibrant culinary season.  \n",
            "Below is a **sample 12‑day itinerary** that balances *historical wonders* with *food‑centric experiences*.  \n",
            "I’ll also give you a rough budget, key transportation tips, and some “must‑try” dishes for each stop.  \n",
            "\n",
            "---\n",
            "\n",
            "## 🎯 12‑Day “History & Food” Italy Itinerary (Spring)\n",
            "\n",
            "| Day | City | Highlights (History) | Food Focus | Suggested Lunch/Evening |\n",
            "|-----|------|----------------------|------------|------------------------|\n",
            "| **1** | **Rome** | Colosseum, Roman Forum, Palatine Hill | Italian classics | *Pasta carbonara* at a trattoria |\n",
            "| **2** | Rome | Vatican Museums, Sistine Chapel, St. Peter’s | Espresso, gelato | *Pizzette* at Pizzarium |\n",
            "| **3** | Rome → **Florence** | Duomo, Uffizi, Palazzo Vecchio | Tuscan cheese & wine | *Bistecca alla fiorentina* |\n",
            "| **4** | Florence | Boboli Gardens, Piazzale Michelangelo | Truffle & porcini soup | *Gelato* at Gelateria dei Neri |\n",
            "| **5** | **Siena** | Siena Cathedral, Piazza del Campo | Panforte, Pecorino | *Pici all’amatriciana* |\n",
            "| **6** | **Bologna** | Basilica di San Petronio, Archiginnasio | Tagliatelle al ragù, mortadella | *Cucina per me* (a local “cucina”) |\n",
            "| **7** | **Naples** | Duomo di San Gennaro, Castel dell’Ovo | Pizza Napoletana | *Sfogliatella* |\n",
            "| **8** | Naples → **Pompeii** | Ancient ruins | Limoncello, seafood | *Spaghetti alle vongole* |\n",
            "| **9** | **Amalfi Coast** (Positano) | Amalfi Cathedral | Fresh seafood, limoncello | *Limoncello* tasting |\n",
            "| **10** | Amalfi → **Rome** | Return to Rome | Street food, markets | *Supplì* at Mercato Testaccio |\n",
            "| **11** | **Florence** | Day trip to **Chianti** | Chianti Classico wine tasting | *Ribollita* |\n",
            "| **12** | Florence → **Return** | Last‑minute shopping, departure | | |\n",
            "\n",
            "> **Why 12 days?**  \n",
            ">  * Gives enough time to soak in each city’s vibe without rushing.  \n",
            ">  * Spring is peak for wine & flower festivals—perfect for the Chianti tasting.\n",
            "\n",
            "---\n",
            "\n",
            "## 📅 Suggested Travel Dates\n",
            "\n",
            "- **Late March – Early May**  \n",
            "  *Ideal temperature (15–22 °C).  \n",
            "  *Fewer tourists than summer; some attractions may have shorter hours early spring, so check ahead.  \n",
            "\n",
            "---\n",
            "\n",
            "## 💰 Budget Overview (per person, **mid‑range**)\n",
            "\n",
            "| Category | Approx. Cost |\n",
            "|----------|--------------|\n",
            "| Flights (to/from Rome) | €200‑€350 |\n",
            "| Inter‑city trains (Rome–Florence, Florence–Siena, etc.) | €120 |\n",
            "| Local transport (trains, buses, ferries) | €60 |\n",
            "| Accommodation (3‑star hotels / B&B) | €80/night × 11 nights ≈ €880 |\n",
            "| Meals & food tours | €70/day × 12 days ≈ €840 |\n",
            "| Entrance fees (Vatican, Uffizi, Colosseum, etc.) | €100 |\n",
            "| Misc. (souvenirs, tips) | €80 |\n",
            "| **Total** | **≈ €3,400** (mid‑range) |\n",
            "| **Low‑budget**: Cut €300–€500 by staying in budget hotels, eating at osterias, using a rail pass. |\n",
            "| **Luxury**: Add €200–€400 for 4‑star stays, private tours, or cooking classes. |\n",
            "\n",
            "*(Prices are 2025 estimates; adjust for currency changes.)*\n",
            "\n",
            "---\n",
            "\n",
            "## 🚆 Transportation Snapshot\n",
            "\n",
            "| Mode | How to Use | Tips |\n",
            "|------|------------|------|\n",
            "| **High‑speed train (Frecciarossa/Italo)** | Rome ↔ Florence, Florence ↔ Bologna | Book 2‑3 months ahead for best fares; consider a rail pass for multiple trips. |\n",
            "| **Regional trains** | Florence ↔ Siena, Naples ↔ Pompeii | Cheaper but slower; good for scenic rides. |\n",
            "| **Ferry** | Amalfi Coast (Positano ↔ Sorrento) | Scenic, but check schedules (seasonal). |\n",
            "| **Rental car** | Amalfi Coast & Chianti (optional) | Helpful for exploring rural towns; drive carefully on narrow roads. |\n",
            "| **Airport shuttles** | Florence → Bologna, Naples → Rome | Cost‑effective and reliable. |\n",
            "\n",
            "---\n",
            "\n",
            "## 🏨 Suggested Hotels (3‑Star)\n",
            "\n",
            "| City | Hotel | Price/night (average) | Why it’s a good pick |\n",
            "|------|-------|-----------------------|---------------------|\n",
            "| Rome | Hotel Artemide (Via Nazionale) | €90 | Central, great breakfast. |\n",
            "| Florence | Hotel Davanzati | €95 | Boutique feel, near Duomo. |\n",
            "| Siena | Hotel Nuova Siena | €80 | Authentic Tuscan charm. |\n",
            "| Bologna | Hotel Vivaldi | €85 | Near Piazza Maggiore. |\n",
            "| Naples | Hotel Il Conca | €75 | Close to historic center. |\n",
            "| Positano | Hotel Savoia | €120 | Ocean view, boutique. |\n",
            "\n",
            "---\n",
            "\n",
            "## 🍴 Food Highlights & Must‑Try Dishes\n",
            "\n",
            "| Region | Dish | Why It’s Iconic |\n",
            "|--------|------|-----------------|\n",
            "| Rome | **Carbonara** (egg, pecorino, guanciale) | Classic Roman comfort food. |\n",
            "| Florence | **Bistecca alla Fiorentina** | Thick, grill‑topped steak from Tuscan cattle. |\n",
            "| Siena | **Pici all’Amatriciana** | Hand‑made pasta with tomato & pork. |\n",
            "| Bologna | **Tagliatelle al Ragù (Bolognese)** | Rich, slow‑cooked meat sauce. |\n",
            "| Naples | **Pizza Napoletana** | Soft crust, San Marzano tomatoes. |\n",
            "| Amalfi | **Limoncello** & **Seafood risotto** | Citrus, sea‑air freshness. |\n",
            "| Sicily (optional) | **Arancini** | Fried rice balls, perfect street snack. |\n",
            "\n",
            "**Food‑tour suggestions:**\n",
            "\n",
            "- **Rome**: *Trattoria Da Enzo* (Piazza Monte Mario) – known for classic Roman dishes.  \n",
            "- **Florence**: *Trattoria da Burde* – Tuscan specialties, great wine pairing.  \n",
            "- **Bologna**: *Drogheria della Rosa* – local markets and a tasting menu.  \n",
            "- **Naples**: *Pizzeria La Notizia* – Michelin‑star pizza.  \n",
            "\n",
            "---\n",
            "\n",
            "## 📋 Quick Checklist\n",
            "\n",
            "- **Travel Insurance**: Covers medical, trip cancellation, luggage.  \n",
            "- **Rail Pass**: Eurail Italy 7‑day or 15‑day, depending on preferences.  \n",
            "- **Cultural Etiquette**: Dress modestly in churches; remove hats.  \n",
            "- **Cash**: Keep €30–€50 in euros for small cafés/markets.  \n",
            "- **Language**: Learn “Buongiorno” (good morning), “Per favore” (please), “Grazie” (thank you).  \n",
            "- **Health**: Bring any prescription meds; Italy has pharmacies (farmacia).  \n",
            "\n",
            "---\n",
            "\n",
            "## 📲 Next Steps\n",
            "\n",
            "1. **Tell me your exact travel dates** (if you have them).  \n",
            "2. **Specify budget range** (€ per day).  \n",
            "3. **Number of travelers** and any *dietary restrictions* or *special interests* (e.g., wine tasting, cooking classes).  \n",
            "4. If you prefer a *shorter trip* (e.g., 8 days), we can trim the itinerary (skip Naples or Amalfi).  \n",
            "\n",
            "Once I have that, I’ll fine‑tune the itinerary, provide booking links, and maybe suggest a few hidden‑gem sites (e.g., the **Basilica of San Clemente** in Rome, the **Porta San Giorgio** in Florence).  \n",
            "\n",
            "Let me know how you’d like to proceed! 🚀\n"
          ]
        }
      ]
    },
    {
      "cell_type": "code",
      "source": [
        "print(\"\\n--- Run 3 (Summarization will trigger here) ---\")\n",
        "response = convo_manager.process_and_get_response(\"What are the top 3 cities I should visit for that?\")\n",
        "print(f\"[Assistant]: {response}\")\n",
        "convo_manager.display_history()"
      ],
      "metadata": {
        "colab": {
          "base_uri": "https://localhost:8080/"
        },
        "id": "sxsCaQBeYVKJ",
        "outputId": "d82f68d0-c2c5-42dc-8387-e3a204eadd83"
      },
      "execution_count": 32,
      "outputs": [
        {
          "output_type": "stream",
          "name": "stdout",
          "text": [
            "\n",
            "--- Run 3 (Summarization will trigger here) ---\n",
            "\n",
            "--- Triggering summarization (Run #3) ---\n",
            "\n",
            "⏳ Summarizing conversation...\n",
            "✅ Summarization complete.\n",
            "📜 History has been replaced with a summary.\n",
            "[Assistant]: Here are the three Italian cities that give you the richest blend of history and culinary delight for a spring getaway:\n",
            "\n",
            "| # | City | Why it’s a must‑visit | Highlighted historic sites | Signature foods |\n",
            "|---|------|-----------------------|----------------------------|-----------------|\n",
            "| 1 | **Rome** | The Eternal City is a living museum, and spring is when the crowds are lighter and the temperatures are comfortable. | Colosseum, Roman Forum, Pantheon, Trastevere’s medieval streets | Carbonara, Supplì, Gelato (Baci) |\n",
            "| 2 | **Florence** | The cradle of the Renaissance, it’s a compact city where art and food are inseparable. | Duomo (Cathedral), Uffizi, Ponte Vecchio, Boboli Gardens | Bistecca alla Fiorentina, Ribollita, Florentine steak |\n",
            "| 3 | **Venice** | Unique architecture, canals, and a culinary scene that balances seafood and regional flavors. | Doge’s Palace, St. Mark’s Basilica, Rialto Bridge, Murano glass workshops | Cicchetti (Venetian tapas), Sarde in saor, Tiramisù |\n",
            "\n",
            "**Why these three?**  \n",
            "- **Rome** gives you the grand scale of ancient Roman civilization and bustling trattorias.  \n",
            "- **Florence** offers Renaissance masterpieces and hearty Tuscan cuisine in a city that’s easy to stroll.  \n",
            "- **Venice** delivers a distinct atmosphere and seafood specialties you won’t find anywhere else.  \n",
            "\n",
            "All three can be linked by Italy’s efficient high‑speed trains (Tremonti, Frecciarossa), letting you soak up culture and taste local specialties in just a few hours of travel.\n",
            "\n",
            "--- Current Conversation History ---\n",
            "[System]: You are a helpful travel planner.\n",
            "[System]: Conversation summary so far: The user wants a spring trip to Italy focused on historical sites and good food, and the assistant responded with a detailed 12‑day itinerary that balances major landmarks (e.g., Rome’s Colosseum, Florence’s Duomo, Pompeii) with culinary highlights, along with budget estimates, transport tips, and accommodation suggestions.\n",
            "[User]: What are the top 3 cities I should visit for that?\n",
            "[Assistant]: Here are the three Italian cities that give you the richest blend of history and culinary delight for a spring getaway:\n",
            "\n",
            "| # | City | Why it’s a must‑visit | Highlighted historic sites | Signature foods |\n",
            "|---|------|-----------------------|----------------------------|-----------------|\n",
            "| 1 | **Rome** | The Eternal City is a living museum, and spring is when the crowds are lighter and the temperatures are comfortable. | Colosseum, Roman Forum, Pantheon, Trastevere’s medieval streets | Carbonara, Supplì, Gelato (Baci) |\n",
            "| 2 | **Florence** | The cradle of the Renaissance, it’s a compact city where art and food are inseparable. | Duomo (Cathedral), Uffizi, Ponte Vecchio, Boboli Gardens | Bistecca alla Fiorentina, Ribollita, Florentine steak |\n",
            "| 3 | **Venice** | Unique architecture, canals, and a culinary scene that balances seafood and regional flavors. | Doge’s Palace, St. Mark’s Basilica, Rialto Bridge, Murano glass workshops | Cicchetti (Venetian tapas), Sarde in saor, Tiramisù |\n",
            "\n",
            "**Why these three?**  \n",
            "- **Rome** gives you the grand scale of ancient Roman civilization and bustling trattorias.  \n",
            "- **Florence** offers Renaissance masterpieces and hearty Tuscan cuisine in a city that’s easy to stroll.  \n",
            "- **Venice** delivers a distinct atmosphere and seafood specialties you won’t find anywhere else.  \n",
            "\n",
            "All three can be linked by Italy’s efficient high‑speed trains (Tremonti, Frecciarossa), letting you soak up culture and taste local specialties in just a few hours of travel.\n",
            "------------------------------------\n",
            "\n"
          ]
        }
      ]
    },
    {
      "cell_type": "code",
      "source": [
        "print(\"\\n### 2.2. DEMONSTRATION: TRUNCATION ###\")\n",
        "convo_manager.truncate_history(max_turns=2)\n",
        "convo_manager.display_history()\n",
        "\n",
        "convo_manager.truncate_history(max_chars=200)\n",
        "convo_manager.display_history()"
      ],
      "metadata": {
        "colab": {
          "base_uri": "https://localhost:8080/"
        },
        "id": "z91N5oipYVIk",
        "outputId": "28a48e3a-5f1f-40c4-ce2e-a3ffdd406d4a"
      },
      "execution_count": 33,
      "outputs": [
        {
          "output_type": "stream",
          "name": "stdout",
          "text": [
            "\n",
            "### 2.2. DEMONSTRATION: TRUNCATION ###\n",
            "✂️ Truncating history to the last 2 turns...\n",
            "\n",
            "--- Current Conversation History ---\n",
            "[System]: You are a helpful travel planner.\n",
            "[System]: You are a helpful travel planner.\n",
            "[System]: Conversation summary so far: The user wants a spring trip to Italy focused on historical sites and good food, and the assistant responded with a detailed 12‑day itinerary that balances major landmarks (e.g., Rome’s Colosseum, Florence’s Duomo, Pompeii) with culinary highlights, along with budget estimates, transport tips, and accommodation suggestions.\n",
            "[User]: What are the top 3 cities I should visit for that?\n",
            "[Assistant]: Here are the three Italian cities that give you the richest blend of history and culinary delight for a spring getaway:\n",
            "\n",
            "| # | City | Why it’s a must‑visit | Highlighted historic sites | Signature foods |\n",
            "|---|------|-----------------------|----------------------------|-----------------|\n",
            "| 1 | **Rome** | The Eternal City is a living museum, and spring is when the crowds are lighter and the temperatures are comfortable. | Colosseum, Roman Forum, Pantheon, Trastevere’s medieval streets | Carbonara, Supplì, Gelato (Baci) |\n",
            "| 2 | **Florence** | The cradle of the Renaissance, it’s a compact city where art and food are inseparable. | Duomo (Cathedral), Uffizi, Ponte Vecchio, Boboli Gardens | Bistecca alla Fiorentina, Ribollita, Florentine steak |\n",
            "| 3 | **Venice** | Unique architecture, canals, and a culinary scene that balances seafood and regional flavors. | Doge’s Palace, St. Mark’s Basilica, Rialto Bridge, Murano glass workshops | Cicchetti (Venetian tapas), Sarde in saor, Tiramisù |\n",
            "\n",
            "**Why these three?**  \n",
            "- **Rome** gives you the grand scale of ancient Roman civilization and bustling trattorias.  \n",
            "- **Florence** offers Renaissance masterpieces and hearty Tuscan cuisine in a city that’s easy to stroll.  \n",
            "- **Venice** delivers a distinct atmosphere and seafood specialties you won’t find anywhere else.  \n",
            "\n",
            "All three can be linked by Italy’s efficient high‑speed trains (Tremonti, Frecciarossa), letting you soak up culture and taste local specialties in just a few hours of travel.\n",
            "------------------------------------\n",
            "\n",
            "✂️ Truncating history to ~200 characters...\n",
            "\n",
            "--- Current Conversation History ---\n",
            "[System]: You are a helpful travel planner.\n",
            "------------------------------------\n",
            "\n"
          ]
        }
      ]
    },
    {
      "cell_type": "code",
      "source": [],
      "metadata": {
        "id": "2yyc9drBYVGJ"
      },
      "execution_count": 33,
      "outputs": []
    },
    {
      "cell_type": "code",
      "source": [
        "print(\"\\n\" + \"=\"*60)\n",
        "print(\"TASK 2: JSON SCHEMA CLASSIFICATION & EXTRACTION\")\n",
        "print(\"=\"*60)"
      ],
      "metadata": {
        "colab": {
          "base_uri": "https://localhost:8080/"
        },
        "id": "76Ij9oCcYVDs",
        "outputId": "fbae02e0-7ba5-45be-aba3-0fee8d969452"
      },
      "execution_count": 34,
      "outputs": [
        {
          "output_type": "stream",
          "name": "stdout",
          "text": [
            "\n",
            "============================================================\n",
            "TASK 2: JSON SCHEMA CLASSIFICATION & EXTRACTION\n",
            "============================================================\n"
          ]
        }
      ]
    },
    {
      "cell_type": "code",
      "source": [
        "USER_DETAILS_SCHEMA = {\n",
        "    \"type\": \"function\",\n",
        "    \"function\": {\n",
        "        \"name\": \"extract_user_info\",\n",
        "        \"description\": \"Extracts user information from a given text.\",\n",
        "        \"parameters\": {\n",
        "            \"type\": \"object\",\n",
        "            \"properties\": {\n",
        "                \"name\": {\"type\": \"string\", \"description\": \"The full name of the user.\"},\n",
        "                \"email\": {\"type\": \"string\", \"description\": \"The email address of the user.\"},\n",
        "                \"phone\": {\"type\": \"string\", \"description\": \"The phone number of the user.\"},\n",
        "                \"location\": {\"type\": \"string\", \"description\": \"The city and country, e.g., 'San Francisco, USA'.\"},\n",
        "                \"age\": {\"type\": \"integer\", \"description\": \"The age of the user.\"}\n",
        "            },\n",
        "            \"required\": []\n",
        "        }\n",
        "    }\n",
        "}"
      ],
      "metadata": {
        "id": "Ar59AC2cYVBY"
      },
      "execution_count": 35,
      "outputs": []
    },
    {
      "cell_type": "code",
      "source": [
        "def extract_details(text_input: str, model: str = MODEL):\n",
        "    print(f\"\\n--- Parsing Chat: \\\"{text_input}\\\" ---\")\n",
        "    try:\n",
        "        response = client.chat.completions.create(\n",
        "            model=model,\n",
        "            messages=[{\"role\": \"user\", \"content\": text_input}],\n",
        "            tools=[USER_DETAILS_SCHEMA],\n",
        "            tool_choice=\"auto\"\n",
        "        )\n",
        "        tool_calls = response.choices[0].message.tool_calls\n",
        "        if tool_calls:\n",
        "            function_args = json.loads(tool_calls[0].function.arguments)\n",
        "            print(\"✅ Extraction successful.\")\n",
        "            return function_args\n",
        "        else:\n",
        "            print(\"ℹ️ Model did not find any details to extract.\")\n",
        "            return {}\n",
        "    except Exception as e:\n",
        "        print(f\"An error occurred during extraction: {e}\")\n",
        "        return {\"error\": str(e)}"
      ],
      "metadata": {
        "id": "AN_rErSeYU_P"
      },
      "execution_count": 36,
      "outputs": []
    },
    {
      "cell_type": "code",
      "source": [
        "print(\"\\n### 3.3. DEMONSTRATION: EXTRACTING FROM SAMPLE CHATS ###\")\n",
        "sample_chats = [\n",
        "    \"Hi, my name is Jane Doe and I'm 28. My email is jane.d@email.com, and I live in New York, USA. My phone is 123-456-7890.\",\n",
        "    \"I'm John Smith from London. You can reach me at john.s@web.co.uk.\",\n",
        "    \"Can you please tell me what the weather is like today?\"\n",
        "]"
      ],
      "metadata": {
        "colab": {
          "base_uri": "https://localhost:8080/"
        },
        "id": "7hzRY-JSYU9A",
        "outputId": "9f398f3c-296b-4a04-eb12-0cf03e0d9a75"
      },
      "execution_count": 37,
      "outputs": [
        {
          "output_type": "stream",
          "name": "stdout",
          "text": [
            "\n",
            "### 3.3. DEMONSTRATION: EXTRACTING FROM SAMPLE CHATS ###\n"
          ]
        }
      ]
    },
    {
      "cell_type": "code",
      "source": [
        "for chat in sample_chats:\n",
        "    extracted_data = extract_details(chat)\n",
        "    print(\"--- Extracted Information ---\")\n",
        "    print(json.dumps(extracted_data, indent=2))\n",
        "    print(\"-\" * 30)"
      ],
      "metadata": {
        "colab": {
          "base_uri": "https://localhost:8080/"
        },
        "id": "bNrNXmVIYU6q",
        "outputId": "7a310fa4-6b95-47ac-9020-9207b7ec993a"
      },
      "execution_count": 38,
      "outputs": [
        {
          "output_type": "stream",
          "name": "stdout",
          "text": [
            "\n",
            "--- Parsing Chat: \"Hi, my name is Jane Doe and I'm 28. My email is jane.d@email.com, and I live in New York, USA. My phone is 123-456-7890.\" ---\n",
            "✅ Extraction successful.\n",
            "--- Extracted Information ---\n",
            "{\n",
            "  \"age\": 28,\n",
            "  \"email\": \"jane.d@email.com\",\n",
            "  \"location\": \"New York, USA\",\n",
            "  \"name\": \"Jane Doe\",\n",
            "  \"phone\": \"123-456-7890\"\n",
            "}\n",
            "------------------------------\n",
            "\n",
            "--- Parsing Chat: \"I'm John Smith from London. You can reach me at john.s@web.co.uk.\" ---\n",
            "✅ Extraction successful.\n",
            "--- Extracted Information ---\n",
            "{\n",
            "  \"email\": \"john.s@web.co.uk\",\n",
            "  \"location\": \"London\",\n",
            "  \"name\": \"John Smith\"\n",
            "}\n",
            "------------------------------\n",
            "\n",
            "--- Parsing Chat: \"Can you please tell me what the weather is like today?\" ---\n",
            "ℹ️ Model did not find any details to extract.\n",
            "--- Extracted Information ---\n",
            "{}\n",
            "------------------------------\n"
          ]
        }
      ]
    },
    {
      "cell_type": "code",
      "source": [],
      "metadata": {
        "id": "VlWxNG3tYU4M"
      },
      "execution_count": null,
      "outputs": []
    },
    {
      "cell_type": "code",
      "source": [],
      "metadata": {
        "id": "skH36nmsYU1u"
      },
      "execution_count": null,
      "outputs": []
    },
    {
      "cell_type": "code",
      "source": [],
      "metadata": {
        "id": "sQtnxih8YUzU"
      },
      "execution_count": null,
      "outputs": []
    },
    {
      "cell_type": "code",
      "source": [],
      "metadata": {
        "id": "cRlOidnGYUw6"
      },
      "execution_count": null,
      "outputs": []
    }
  ]
}